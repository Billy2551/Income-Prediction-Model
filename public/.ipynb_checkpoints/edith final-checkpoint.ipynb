{
 "cells": [
  {
   "cell_type": "code",
   "execution_count": 962,
   "metadata": {},
   "outputs": [],
   "source": [
    "# Imports\n",
    "import pandas as pd\n",
    "import numpy as np\n",
    "import csv\n",
    "import re\n",
    "import sklearn\n",
    "import sklearn.datasets\n",
    "import sklearn.linear_model\n",
    "import warnings\n",
    "from sklearn.preprocessing import OneHotEncoder \n",
    "from sklearn.preprocessing import LabelEncoder\n",
    "\n",
    "import matplotlib.pyplot as plt\n",
    "from matplotlib.colors import ListedColormap\n",
    "import seaborn as sns\n",
    "\n",
    "from sklearn.linear_model import LogisticRegression\n",
    "from sklearn.model_selection import train_test_split\n",
    "from sklearn import tree\n",
    "from sklearn import ensemble\n",
    "\n",
    "np.random.seed(42)\n",
    "plt.style.use('fivethirtyeight')\n",
    "sns.set()\n",
    "sns.set_context(\"talk\")\n",
    "\n",
    "# Set some parameters\n",
    "plt.rcParams['figure.figsize'] = (12, 9)\n",
    "plt.rcParams['font.size'] = 16\n",
    "np.set_printoptions(4)\n",
    "\n",
    "# We will use plot_3d helper function to help us visualize gradients\n",
    "from hw7_utils import plot_3d\n",
    "warnings.filterwarnings(\"ignore\")\n",
    "\n",
    "%matplotlib inline"
   ]
  },
  {
   "cell_type": "code",
   "execution_count": 963,
   "metadata": {},
   "outputs": [],
   "source": [
    "pd.set_option('display.max_rows', None)"
   ]
  },
  {
   "cell_type": "code",
   "execution_count": 964,
   "metadata": {},
   "outputs": [],
   "source": [
    "import seaborn as sns\n",
    "\n",
    "plt.rcParams['figure.figsize'] = (4, 4)\n",
    "plt.rcParams['figure.dpi'] = 150\n",
    "plt.rcParams['lines.linewidth'] = 3\n",
    "sns.set() "
   ]
  },
  {
   "cell_type": "code",
   "execution_count": 965,
   "metadata": {},
   "outputs": [],
   "source": [
    "edith = pd.read_csv('incomeBracket2.csv')\n",
    "cleaned = pd.read_csv('clean.csv')\n",
    "cleaned = cleaned[['fullName','salary']]\n",
    "\n",
    "# edith = edith.drop(columns = [\"Unnamed: 0\", \"fullName\", \"jobLocation\", \"location\",\"jobDateRange\", \"imgUrl\", \"schoolDegree\", \"skill1\", \"skill2\", \"skill3\", \"skill4\", \"skill5\", \"skill6\", \"study0\", \"study1\"])"
   ]
  },
  {
   "cell_type": "code",
   "execution_count": 966,
   "metadata": {},
   "outputs": [],
   "source": [
    "new = pd.merge(edith, cleaned, how = 'inner', on = 'fullName')\n",
    "edith = new"
   ]
  },
  {
   "cell_type": "code",
   "execution_count": 967,
   "metadata": {},
   "outputs": [],
   "source": [
    "edith = edith.drop(columns = ['salary_x', 'imgUrl', 'location'])"
   ]
  },
  {
   "cell_type": "markdown",
   "metadata": {},
   "source": [
    "## Cleaning salaries"
   ]
  },
  {
   "cell_type": "code",
   "execution_count": 968,
   "metadata": {},
   "outputs": [],
   "source": [
    "edith['salary_y'][98] = 195687\n",
    "edith['salary_y'][329] = 185674\n",
    "edith['salary_y'][298] = 210467\n",
    "edith['salary_y'][342] = 185674\n",
    "edith['salary_y'][172] = 185674\n",
    "edith['salary_y'][184] = 335471"
   ]
  },
  {
   "cell_type": "code",
   "execution_count": 969,
   "metadata": {
    "scrolled": false
   },
   "outputs": [],
   "source": [
    "for i in edith.index:\n",
    "    if (((edith.loc[i]['company'] == 'Facebook') | (edith.loc[i]['company'] == 'Google') \n",
    "         | (edith.loc[i]['company'] == 'Instagram'))\n",
    "        & (edith.loc[i]['jobTitle'] == 'Quantitative')):\n",
    "        edith['jobTitle'][i] = 'Quantitative UX Researcher'"
   ]
  },
  {
   "cell_type": "markdown",
   "metadata": {},
   "source": [
    "## Cleaning quant salaries"
   ]
  },
  {
   "cell_type": "code",
   "execution_count": 970,
   "metadata": {},
   "outputs": [],
   "source": [
    "edith[(edith['jobTitle'] == 'Quantitative') & (edith['company'] == 'Citadel Securities')]\n",
    "\n",
    "for i in edith.index:\n",
    "    if (((edith.loc[i]['company'] == 'Citadel Securities') | (edith.loc[i]['company'] == 'Citadel LLC') | (edith.loc[i]['company'] == 'Citadel'))\n",
    "        & (edith.loc[i]['jobTitle'] == 'Quantitative')):\n",
    "        if (edith.loc[i]['yearsSinceGrad'] <30):\n",
    "            edith['salary_y'][i] = 394000\n",
    "        if (edith.loc[i]['yearsSinceGrad'] <10):\n",
    "            edith['salary_y'][i] = 274578\n",
    "        if (edith.loc[i]['yearsSinceGrad'] <4):\n",
    "            edith['salary_y'][i] = 178389\n",
    "            \n",
    "for i in edith.index:\n",
    "    if ((edith.loc[i]['company'] == 'Two Sigma')\n",
    "        & (edith.loc[i]['jobTitle'] == 'Quantitative')):\n",
    "        if (edith.loc[i]['yearsSinceGrad'] <20):\n",
    "            edith['salary_y'][i] = 385674\n",
    "        if (edith.loc[i]['yearsSinceGrad'] <11):\n",
    "            edith['salary_y'][i] = 275675\n",
    "        if (edith.loc[i]['yearsSinceGrad'] <7):\n",
    "            edith['salary_y'][i] = 173292\n",
    "            \n",
    "for i in edith.index:\n",
    "    if ((edith.loc[i]['company'] == 'IMC Trading')\n",
    "        & (edith.loc[i]['jobTitle'] == 'Quantitative')):\n",
    "        if (edith.loc[i]['yearsSinceGrad'] <2):\n",
    "            edith['salary_y'][i] = 167875\n",
    "            \n",
    "for i in edith.index:\n",
    "    if (((edith.loc[i]['company'] == 'Goldman Sachs') | (edith.loc[i]['company'] == 'JPMorgan Chase & Co.')\n",
    "        | (edith.loc[i]['company'] == 'J.P. Morgan'))\n",
    "        & (edith.loc[i]['jobTitle'] == 'Quantitative')):\n",
    "        if (edith.loc[i]['yearsSinceGrad'] <20):\n",
    "            edith['salary_y'][i] = 375468\n",
    "        if (edith.loc[i]['yearsSinceGrad'] <4):\n",
    "            edith['salary_y'][i] = 180242\n",
    "            \n",
    "for i in edith.index:\n",
    "    if (((edith.loc[i]['company'] == 'Citi Bank'))\n",
    "        & (edith.loc[i]['jobTitle'] == 'Quantitative')):\n",
    "        if (edith.loc[i]['yearsSinceGrad'] <10):\n",
    "            edith['salary_y'][i] = 201597\n",
    "        if (edith.loc[i]['yearsSinceGrad'] <4):\n",
    "            edith['salary_y'][i] = 152455"
   ]
  },
  {
   "cell_type": "code",
   "execution_count": 972,
   "metadata": {
    "scrolled": true
   },
   "outputs": [],
   "source": [
    "for i in edith.index:\n",
    "    if ((edith.loc[i]['company'] == 'Facebook') & (edith.loc[i]['jobTitle'] == 'Data Scientist')):\n",
    "        if (edith.loc[i]['yearsSinceGrad'] <30):\n",
    "            edith['salary_y'][i] = 162273\n",
    "        if (edith.loc[i]['yearsSinceGrad'] <7):\n",
    "            edith['salary_y'][i] = 153275\n",
    "        if (edith.loc[i]['yearsSinceGrad'] <5):\n",
    "            edith['salary_y'][i] = 134098\n",
    "        if (edith.loc[i]['yearsSinceGrad'] <3):\n",
    "            edith['salary_y'][i] = 112000"
   ]
  },
  {
   "cell_type": "code",
   "execution_count": 973,
   "metadata": {
    "scrolled": false
   },
   "outputs": [],
   "source": [
    "for i in edith.index:\n",
    "    if ((edith.loc[i]['company'] == 'Facebook')\n",
    "        & (edith.loc[i]['jobTitle'] == 'Software Engineer') \n",
    "        & ((edith.loc[i]['jobLocation'].startswith('Menlo Park'))\n",
    "          |(edith.loc[i]['jobLocation'].startswith('None')) | (edith.loc[i]['jobLocation'].startswith('San Francisco'))\n",
    "          | (edith.loc[i]['jobLocation'].startswith('menlo park')))\n",
    "       &(edith.loc[i]['yearsSinceGrad']<10)):\n",
    "        edith['salary_y'][i] = 125488\n",
    "\n",
    "for i in edith.index:\n",
    "    if ((edith.loc[i]['company'] == 'Facebook')\n",
    "        & (edith.loc[i]['jobTitle'] == 'Software Engineer') \n",
    "        & ((edith.loc[i]['jobLocation'].startswith('Menlo Park'))\n",
    "          |(edith.loc[i]['jobLocation'].startswith('None')) | (edith.loc[i]['jobLocation'].startswith('San Francisco'))\n",
    "         | (edith.loc[i]['jobLocation'].startswith('menlo park')))\n",
    "       &(edith.loc[i]['yearsSinceGrad']<=4)):\n",
    "        edith['salary_y'][i] = 111121\n",
    "\n",
    "\n",
    "for i in edith.index:\n",
    "    if ((edith.loc[i]['company'] == 'Facebook')\n",
    "        & (edith.loc[i]['jobTitle'] == 'Software Engineer') \n",
    "        & ((edith.loc[i]['jobLocation'].startswith('Menlo Park'))\n",
    "          |(edith.loc[i]['jobLocation'].startswith('None')) | (edith.loc[i]['jobLocation'].startswith('San Francisco'))\n",
    "          | (edith.loc[i]['jobLocation'].startswith('menlo park')))\n",
    "       &(edith.loc[i]['yearsSinceGrad']<=1)):\n",
    "        edith['salary_y'][i] = 107366\n"
   ]
  },
  {
   "cell_type": "code",
   "execution_count": 974,
   "metadata": {},
   "outputs": [],
   "source": [
    "for i in edith.index:\n",
    "    if ((edith.loc[i]['company'] == 'Facebook')\n",
    "        & (edith.loc[i]['jobTitle'] == 'Product Manager') \n",
    "        & ((edith.loc[i]['jobLocation'].startswith('Menlo Park'))\n",
    "          |(edith.loc[i]['jobLocation'].startswith('None')) | (edith.loc[i]['jobLocation'].startswith('San Francisco')))\n",
    "       &(edith.loc[i]['yearsSinceGrad']<20)):\n",
    "        edith['salary_y'][i] = 256000\n",
    "\n",
    "for i in edith.index:\n",
    "    if ((edith.loc[i]['company'] == 'Facebook')\n",
    "        & (edith.loc[i]['jobTitle'] == 'Product Manager') \n",
    "        & ((edith.loc[i]['jobLocation'].startswith('Menlo Park'))\n",
    "          |(edith.loc[i]['jobLocation'].startswith('None')) | (edith.loc[i]['jobLocation'].startswith('San Francisco')))\n",
    "       &(edith.loc[i]['yearsSinceGrad']<=10)):\n",
    "        edith['salary_y'][i] = 228000\n",
    "\n",
    "        \n",
    "for i in edith.index:\n",
    "    if ((edith.loc[i]['company'] == 'Facebook')\n",
    "        & (edith.loc[i]['jobTitle'] == 'Product Manager') \n",
    "        & ((edith.loc[i]['jobLocation'].startswith('Menlo Park'))\n",
    "          |(edith.loc[i]['jobLocation'].startswith('None')) \n",
    "           | (edith.loc[i]['jobLocation'].startswith('San Francisco'))\n",
    "          | (edith.loc[i]['jobLocation'].startswith('Seattle')))\n",
    "       &(edith.loc[i]['yearsSinceGrad']<=7)):\n",
    "        edith['salary_y'][i] = 205000\n",
    "\n",
    "\n",
    "for i in edith.index:\n",
    "    if ((edith.loc[i]['company'] == 'Facebook')\n",
    "        & (edith.loc[i]['jobTitle'] == 'Product Manager') \n",
    "        & ((edith.loc[i]['jobLocation'].startswith('Menlo Park'))\n",
    "          |(edith.loc[i]['jobLocation'].startswith('None')) | (edith.loc[i]['jobLocation'].startswith('San Francisco')))\n",
    "       &(edith.loc[i]['yearsSinceGrad']<=4)):\n",
    "        edith['salary_y'][i] = 156000"
   ]
  },
  {
   "cell_type": "code",
   "execution_count": 975,
   "metadata": {},
   "outputs": [],
   "source": [
    "for i in edith.index:\n",
    "    if ((edith.loc[i]['company'] == 'Facebook')\n",
    "        & (edith.loc[i]['jobTitle'] == 'Product Designer') \n",
    "        & ((edith.loc[i]['jobLocation'].startswith('Menlo Park'))\n",
    "          |(edith.loc[i]['jobLocation'].startswith('None')) | (edith.loc[i]['jobLocation'].startswith('San Francisco')))\n",
    "       &(edith.loc[i]['yearsSinceGrad']<20)):\n",
    "        edith['salary_y'][i] = 256000\n",
    "        \n",
    "for i in edith.index:\n",
    "    if ((edith.loc[i]['company'] == 'Facebook')\n",
    "        & (edith.loc[i]['jobTitle'] == 'Product Designer') \n",
    "        & ((edith.loc[i]['jobLocation'].startswith('Menlo Park'))\n",
    "          |(edith.loc[i]['jobLocation'].startswith('None')) | (edith.loc[i]['jobLocation'].startswith('San Francisco')))\n",
    "       &(edith.loc[i]['yearsSinceGrad']<10)):\n",
    "        edith['salary_y'][i] = 205000\n",
    "\n",
    "for i in edith.index:\n",
    "    if ((edith.loc[i]['company'] == 'Facebook')\n",
    "        & (edith.loc[i]['jobTitle'] == 'Product Designer') \n",
    "        & ((edith.loc[i]['jobLocation'].startswith('Menlo Park'))\n",
    "          |(edith.loc[i]['jobLocation'].startswith('None')) | (edith.loc[i]['jobLocation'].startswith('San Francisco')))\n",
    "       &(edith.loc[i]['yearsSinceGrad']<5)):\n",
    "        edith['salary_y'][i] = 156000"
   ]
  },
  {
   "cell_type": "markdown",
   "metadata": {},
   "source": [
    "### Fixed Product Designer Salaries"
   ]
  },
  {
   "cell_type": "code",
   "execution_count": 976,
   "metadata": {},
   "outputs": [],
   "source": [
    "edith['salary_y'][76] = 187536\n",
    "edith['salary_y'][244] = 133346\n",
    "edith['salary_y'][49] = 123482\n",
    "edith['salary_y'][542] = 123482\n",
    "edith['salary_y'][434] = 233276\n",
    "edith['salary_y'][46] = 132265\n",
    "\n",
    "for i in edith.index:\n",
    "    if ((edith.loc[i]['company'] == 'Facebook') & (edith.loc[i]['jobTitle'] == 'Product Designer')):\n",
    "        if (edith.loc[i]['yearsSinceGrad'] < 15):\n",
    "            edith['salary_y'][i] = 183086\n",
    "        if (edith.loc[i]['yearsSinceGrad'] < 7):\n",
    "            edith['salary_y'][i] = 170571\n",
    "        if (edith.loc[i]['yearsSinceGrad'] < 4):\n",
    "            edith['salary_y'][i] = 134000\n",
    "            \n",
    "for i in edith.index:\n",
    "    if ((edith.loc[i]['company'] == 'Other') & (edith.loc[i]['jobTitle'] == 'Product Designer')):\n",
    "        if (edith.loc[i]['yearsSinceGrad'] < 10):\n",
    "            edith['salary_y'][i] = 125467\n",
    "        if (edith.loc[i]['yearsSinceGrad'] < 4):\n",
    "            edith['salary_y'][i] = 115162\n",
    "\n",
    "for i in edith.index:\n",
    "    if ((edith.loc[i]['company'] == 'Apple') & (edith.loc[i]['jobTitle'] == 'Product Designer')):\n",
    "        if (edith.loc[i]['yearsSinceGrad'] < 6):\n",
    "            edith['salary_y'][i] = 137236\n",
    "        if (edith.loc[i]['yearsSinceGrad'] < 3):\n",
    "            edith['salary_y'][i] = 116745\n"
   ]
  },
  {
   "cell_type": "markdown",
   "metadata": {},
   "source": [
    "### Fixed Microsoft SWE Salaries"
   ]
  },
  {
   "cell_type": "code",
   "execution_count": 977,
   "metadata": {
    "scrolled": true
   },
   "outputs": [],
   "source": [
    "for i in edith.index:\n",
    "    if ((edith.loc[i]['company'] == 'Microsoft')\n",
    "        & (edith.loc[i]['jobTitle'] == 'Software Engineer') \n",
    "        & (edith.loc[i]['jobLocation']).startswith('San Francisco')):\n",
    "#        &(edith.loc[i]['yearsSinceGrad'] < 3)):\n",
    "        edith['salary_y'][i] = 124822\n",
    "\n",
    "for i in edith.index:\n",
    "    if ((edith.loc[i]['company'] == 'Microsoft')\n",
    "        & (edith.loc[i]['jobTitle'] == 'Software Engineer') \n",
    "        & (edith.loc[i]['jobLocation']).startswith('Greater Seattle')):\n",
    "#        &(edith.loc[i]['yearsSinceGrad']) < 3):\n",
    "        edith['salary_y'][i] = 145000\n",
    "    \n",
    "for i in edith.index:\n",
    "    if ((edith.loc[i]['company'] == 'Microsoft')\n",
    "        & (edith.loc[i]['jobTitle'] == 'Software Engineer') \n",
    "        & (edith.loc[i]['jobLocation']).startswith('Redmond')):\n",
    "#        &(edith.loc[i]['yearsSinceGrad']) < 3):\n",
    "        edith['salary_y'][i] = 115263\n",
    "    \n",
    "for i in edith.index:\n",
    "    if ((edith.loc[i]['company'] == 'Microsoft')\n",
    "        & (edith.loc[i]['jobTitle'] == 'Software Engineer') \n",
    "        & (edith.loc[i]['jobLocation']).startswith('None')):\n",
    "#        &(edith.loc[i]['yearsSinceGrad']) < 3):\n",
    "        edith['salary_y'][i] = 97694"
   ]
  },
  {
   "cell_type": "markdown",
   "metadata": {},
   "source": [
    "### Fixed Google/Apple Salaries"
   ]
  },
  {
   "cell_type": "code",
   "execution_count": 978,
   "metadata": {},
   "outputs": [],
   "source": [
    "for i in edith.index:\n",
    "    if ((edith.loc[i]['company'] == 'Google') & (edith.loc[i]['jobTitle'] == 'Software Engineer')):\n",
    "        if (edith.loc[i]['yearsSinceGrad'] < 20):\n",
    "            edith['salary_y'][i] = 181000\n",
    "        if (edith.loc[i]['yearsSinceGrad'] < 7):\n",
    "            edith['salary_y'][i] = 149000\n",
    "        if (edith.loc[i]['yearsSinceGrad'] < 4):\n",
    "            edith['salary_y'][i] = 124822\n",
    "            \n",
    "for i in edith.index:\n",
    "    if ((edith.loc[i]['company'] == 'Google') & (edith.loc[i]['jobTitle'] == 'Product Manager')):\n",
    "        if (edith.loc[i]['yearsSinceGrad'] < 25):\n",
    "            edith['salary_y'][i] = 252000\n",
    "        if (edith.loc[i]['yearsSinceGrad'] < 15):\n",
    "            edith['salary_y'][i] = 236000\n",
    "        if (edith.loc[i]['yearsSinceGrad'] < 10):\n",
    "            edith['salary_y'][i] = 200000\n",
    "        if (edith.loc[i]['yearsSinceGrad'] < 7):\n",
    "            edith['salary_y'][i] = 182000\n",
    "        if (edith.loc[i]['yearsSinceGrad'] < 4):\n",
    "            edith['salary_y'][i] = 167717\n",
    "        if (edith.loc[i]['yearsSinceGrad'] < 1):\n",
    "            edith['salary_y'][i] = 158000\n",
    "            \n",
    "for i in edith.index:\n",
    "    if ((edith.loc[i]['company'] == 'Google') & (edith.loc[i]['jobTitle'] == 'Data Scientist')):\n",
    "        if (edith.loc[i]['yearsSinceGrad'] < 15):\n",
    "            edith['salary_y'][i] = 172978\n",
    "        if (edith.loc[i]['yearsSinceGrad'] < 10):\n",
    "            edith['salary_y'][i] = 170056\n",
    "        if (edith.loc[i]['yearsSinceGrad'] < 7):\n",
    "            edith['salary_y'][i] = 166467\n",
    "        if (edith.loc[i]['yearsSinceGrad'] < 4):\n",
    "            edith['salary_y'][i] = 151928\n",
    "        if (edith.loc[i]['yearsSinceGrad'] < 1):\n",
    "            edith['salary_y'][i] = 139653\n",
    "            \n",
    "for i in edith.index:\n",
    "    if ((edith.loc[i]['company'] == 'Apple') & (edith.loc[i]['jobTitle'] == 'Data Scientist')):\n",
    "        if (edith.loc[i]['yearsSinceGrad'] < 10):\n",
    "            edith['salary_y'][i] = 200411\n",
    "        if (edith.loc[i]['yearsSinceGrad'] < 7):\n",
    "            edith['salary_y'][i] = 188000\n",
    "        if (edith.loc[i]['yearsSinceGrad'] < 4):\n",
    "            edith['salary_y'][i] = 151928\n",
    "        if (edith.loc[i]['yearsSinceGrad'] < 1):\n",
    "            edith['salary_y'][i] = 140000"
   ]
  },
  {
   "cell_type": "markdown",
   "metadata": {},
   "source": [
    "### Fixed Consulting Salaries"
   ]
  },
  {
   "cell_type": "code",
   "execution_count": 979,
   "metadata": {},
   "outputs": [],
   "source": [
    "for i in edith.index:\n",
    "    if ((edith.loc[i]['company'] == 'Bain & Company') & (edith.loc[i]['jobTitle'] == 'Consultant')):\n",
    "        if (edith.loc[i]['yearsSinceGrad'] < 4):\n",
    "            edith['salary_y'][i] = 99000\n",
    "        if (edith.loc[i]['yearsSinceGrad'] < 1):\n",
    "            edith['salary_y'][i] = 94000\n",
    "\n",
    "for i in edith.index:\n",
    "    if ((edith.loc[i]['company'] == 'Boston Consulting Group (BCG)') & (edith.loc[i]['jobTitle'] == 'Consultant')):\n",
    "        if (edith.loc[i]['yearsSinceGrad'] < 3):\n",
    "            edith['salary_y'][i] = 99000\n",
    "        if (edith.loc[i]['yearsSinceGrad'] < 1):\n",
    "            edith['salary_y'][i] = 91000      \n",
    "            \n",
    "for i in edith.index:\n",
    "    if ((edith.loc[i]['company'] == 'Other') & (edith.loc[i]['jobTitle'] == 'Consultant')):\n",
    "        if (edith.loc[i]['yearsSinceGrad'] < 8):\n",
    "            edith['salary_y'][i] = 132000\n",
    "        if (edith.loc[i]['yearsSinceGrad'] < 4):\n",
    "            edith['salary_y'][i] = 91000    "
   ]
  },
  {
   "cell_type": "markdown",
   "metadata": {},
   "source": [
    "### Fixed SWE Salaries"
   ]
  },
  {
   "cell_type": "code",
   "execution_count": 980,
   "metadata": {},
   "outputs": [],
   "source": [
    "edith['salary_y'][461] = 135737\n",
    "edith['salary_y'][662] = 129629\n",
    "edith['salary_y'][40] = 142356\n",
    "\n",
    "for i in edith.index:\n",
    "    if ((edith.loc[i]['company'] == 'Other') & (edith.loc[i]['jobTitle'] == 'Software Engineer')):\n",
    "        if (edith.loc[i]['yearsSinceGrad'] < 10):\n",
    "            edith['salary_y'][i] = 125275\n",
    "        if (edith.loc[i]['yearsSinceGrad'] < 7):\n",
    "            edith['salary_y'][i] = 110465\n",
    "        if (edith.loc[i]['yearsSinceGrad'] < 4):\n",
    "            edith['salary_y'][i] = 106277\n",
    "            \n",
    "for i in edith.index:\n",
    "    if ((edith.loc[i]['company'] == 'Apple') & (edith.loc[i]['jobTitle'] == 'Software Engineer')):\n",
    "        if (edith.loc[i]['yearsSinceGrad'] < 11):\n",
    "            edith['salary_y'][i] = 162554\n",
    "        if (edith.loc[i]['yearsSinceGrad'] < 4):\n",
    "            edith['salary_y'][i] = 137424\n",
    "\n",
    "for i in edith.index:\n",
    "    if ((edith.loc[i]['company'] == 'Cisco') & (edith.loc[i]['jobTitle'] == 'Software Engineer')):\n",
    "        if (edith.loc[i]['yearsSinceGrad'] < 4):\n",
    "            edith['salary_y'][i] = 119429\n",
    "            \n",
    "for i in edith.index:\n",
    "    if ((edith.loc[i]['company'] == 'Amazon') & (edith.loc[i]['jobTitle'] == 'Software Engineer')):\n",
    "        if (edith.loc[i]['yearsSinceGrad'] < 5):\n",
    "            edith['salary_y'][i] = 127645\n",
    "            \n",
    "for i in edith.index:\n",
    "    if ((edith.loc[i]['company'] == 'Databricks') & (edith.loc[i]['jobTitle'] == 'Software Engineer')):\n",
    "        if (edith.loc[i]['yearsSinceGrad'] < 5):\n",
    "            edith['salary_y'][i] = 156217\n",
    "\n",
    "for i in edith.index:\n",
    "    if ((edith.loc[i]['company'] == 'Twitter') \n",
    "        & (edith.loc[i]['jobTitle'] == 'Software Engineer')):\n",
    "        if (edith.loc[i]['yearsSinceGrad'] < 10):\n",
    "            edith['salary_y'][i] = 165729\n",
    "        if (edith.loc[i]['yearsSinceGrad'] < 4):\n",
    "            edith['salary_y'][i] = 147882\n",
    "            \n",
    "for i in edith.index:\n",
    "    if ((edith.loc[i]['company'] == 'LinkedIn') & (edith.loc[i]['jobTitle'] == 'Software Engineer')):\n",
    "        if (edith.loc[i]['yearsSinceGrad'] < 4):\n",
    "            edith['salary_y'][i] = 148000\n",
    "            \n",
    "for i in edith.index:\n",
    "    if ((edith.loc[i]['company'] == 'Blend') & (edith.loc[i]['jobTitle'] == 'Software Engineer')):\n",
    "        if (edith.loc[i]['yearsSinceGrad'] < 4):\n",
    "            edith['salary_y'][i] = 144636\n",
    "            \n",
    "for i in edith.index:\n",
    "    if ((edith.loc[i]['company'] == 'PayPal') & (edith.loc[i]['jobTitle'] == 'Software Engineer')):\n",
    "        if (edith.loc[i]['yearsSinceGrad'] < 4):\n",
    "            edith['salary_y'][i] = 117000\n",
    "            \n",
    "for i in edith.index:\n",
    "    if ((edith.loc[i]['company'] == 'Intuit') & (edith.loc[i]['jobTitle'] == 'Software Engineer')):\n",
    "        if (edith.loc[i]['yearsSinceGrad'] < 3):\n",
    "            edith['salary_y'][i] = 123000\n",
    "\n",
    "for i in edith.index:\n",
    "    if ((edith.loc[i]['company'] == 'Yelp') & (edith.loc[i]['jobTitle'] == 'Software Engineer')):\n",
    "        if (edith.loc[i]['yearsSinceGrad'] < 7):\n",
    "            edith['salary_y'][i] = 151094\n",
    "        if (edith.loc[i]['yearsSinceGrad'] < 3):\n",
    "            edith['salary_y'][i] = 127851\n",
    "            \n",
    "for i in edith.index:\n",
    "    if ((edith.loc[i]['company'] == 'Robinhood') & (edith.loc[i]['jobTitle'] == 'Software Engineer')):\n",
    "        if (edith.loc[i]['yearsSinceGrad'] < 6):\n",
    "            edith['salary_y'][i] = 157832\n",
    "        if (edith.loc[i]['yearsSinceGrad'] < 3):\n",
    "            edith['salary_y'][i] = 139962"
   ]
  },
  {
   "cell_type": "markdown",
   "metadata": {},
   "source": [
    "## Fixed Data Science Salaries"
   ]
  },
  {
   "cell_type": "code",
   "execution_count": 981,
   "metadata": {},
   "outputs": [],
   "source": [
    "edith['salary_y'][839] = 181475\n",
    "edith['salary_y'][100] = 132000\n",
    "edith['salary_y'][736] = 173584\n",
    "edith['salary_y'][344] = 142386\n",
    "edith['salary_y'][531] = 134465\n",
    "edith['salary_y'][246] = 166472\n",
    "edith['salary_y'][333] = 145467\n",
    "edith['salary_y'][267] = 145467\n",
    "edith['salary_y'][267] = 154428\n",
    "\n",
    "for i in edith.index:\n",
    "    if ((edith.loc[i]['company'] == 'Uber') & (edith.loc[i]['jobTitle'] == 'Data Scientist')):\n",
    "        if (edith.loc[i]['yearsSinceGrad'] < 10):\n",
    "            edith['salary_y'][i] = 170056\n",
    "        if (edith.loc[i]['yearsSinceGrad'] < 7):\n",
    "            edith['salary_y'][i] = 163000\n",
    "        if (edith.loc[i]['yearsSinceGrad'] < 4):\n",
    "            edith['salary_y'][i] = 141000\n",
    "        if (edith.loc[i]['yearsSinceGrad'] < 1):\n",
    "            edith['salary_y'][i] = 132000\n",
    "            \n",
    "for i in edith.index:\n",
    "    if ((edith.loc[i]['company'] == 'Other') & (edith.loc[i]['jobTitle'] == 'Data Scientist')):\n",
    "        if (edith.loc[i]['yearsSinceGrad'] < 10):\n",
    "            edith['salary_y'][i] = 172000\n",
    "        if (edith.loc[i]['yearsSinceGrad'] < 7):\n",
    "            edith['salary_y'][i] = 160000\n",
    "        if (edith.loc[i]['yearsSinceGrad'] < 4):\n",
    "            edith['salary_y'][i] = 140000\n",
    "        if (edith.loc[i]['yearsSinceGrad'] < 1):\n",
    "            edith['salary_y'][i] = 125000\n",
    "            \n",
    "for i in edith.index:\n",
    "    if ((edith.loc[i]['company'] == 'Airbnb') & (edith.loc[i]['jobTitle'] == 'Data Scientist')):\n",
    "        if (edith.loc[i]['yearsSinceGrad'] < 12):\n",
    "            edith['salary_y'][i] = 175678\n",
    "        if (edith.loc[i]['yearsSinceGrad'] < 7):\n",
    "            edith['salary_y'][i] = 164476\n",
    "        if (edith.loc[i]['yearsSinceGrad'] < 4):\n",
    "            edith['salary_y'][i] = 143000\n",
    "            \n",
    "for i in edith.index:\n",
    "    if (((edith.loc[i]['company'] == 'Amazon') | (edith.loc[i]['company'] == 'Visa')) \n",
    "        & (edith.loc[i]['jobTitle'] == 'Data Scientist')):\n",
    "        if (edith.loc[i]['yearsSinceGrad'] < 4):\n",
    "            edith['salary_y'][i] = 139147\n",
    "            \n",
    "for i in edith.index:\n",
    "    if (((edith.loc[i]['company'] == 'LinkedIn') | (edith.loc[i]['company'] == 'Walmart Labs')) \n",
    "        & (edith.loc[i]['jobTitle'] == 'Data Scientist')):\n",
    "        if (edith.loc[i]['yearsSinceGrad'] < 4):\n",
    "            edith['salary_y'][i] = 143478\n",
    "            \n",
    "for i in edith.index:\n",
    "    if ((edith.loc[i]['company'] == 'Twitter') \n",
    "        & (edith.loc[i]['jobTitle'] == 'Data Scientist')):\n",
    "        if (edith.loc[i]['yearsSinceGrad'] < 10):\n",
    "            edith['salary_y'][i] = 165729\n",
    "        if (edith.loc[i]['yearsSinceGrad'] < 4):\n",
    "            edith['salary_y'][i] = 147882\n",
    "            "
   ]
  },
  {
   "cell_type": "markdown",
   "metadata": {},
   "source": [
    "## Gets rid of duplicate rows"
   ]
  },
  {
   "cell_type": "code",
   "execution_count": 982,
   "metadata": {},
   "outputs": [],
   "source": [
    "edith = edith.drop_duplicates()"
   ]
  },
  {
   "cell_type": "code",
   "execution_count": 983,
   "metadata": {},
   "outputs": [
    {
     "data": {
      "text/plain": [
       "Index(['Unnamed: 0', 'fullName', 'company', 'jobTitle', 'jobLocation',\n",
       "       'jobDateRange', 'school', 'schoolDegree', 'yearsSinceGrad', 'maxDegree',\n",
       "       'major', 'study0', 'study1', 'skill1', 'skill2', 'skill3', 'skill4',\n",
       "       'skill5', 'skill6', 'gender', 'state', 'salary_y'],\n",
       "      dtype='object')"
      ]
     },
     "execution_count": 983,
     "metadata": {},
     "output_type": "execute_result"
    }
   ],
   "source": [
    "edith.columns"
   ]
  },
  {
   "cell_type": "code",
   "execution_count": 984,
   "metadata": {},
   "outputs": [],
   "source": [
    "edith = edith.fillna('filter').groupby(\"fullName\", as_index = False).agg({'salary_y': max, 'company' :  max,\n",
    "                                                'jobTitle' : max, 'school' : max,\n",
    "                                                 'study0' : max, 'study1' : max, 'gender' : max, 'maxDegree' : max,\n",
    "                                                'state' : max, 'yearsSinceGrad' : min})"
   ]
  },
  {
   "cell_type": "code",
   "execution_count": 985,
   "metadata": {},
   "outputs": [],
   "source": [
    "edith = edith[~(edith['maxDegree'] == 'filter')]"
   ]
  },
  {
   "cell_type": "markdown",
   "metadata": {},
   "source": [
    "## Gets rid of unknown genders"
   ]
  },
  {
   "cell_type": "code",
   "execution_count": 986,
   "metadata": {},
   "outputs": [],
   "source": [
    "edith = edith[~ (edith[\"gender\"] == \"unknown\")]"
   ]
  },
  {
   "cell_type": "markdown",
   "metadata": {},
   "source": [
    "## Gets rid of Vice President or Portfolio Manager Titles"
   ]
  },
  {
   "cell_type": "code",
   "execution_count": 987,
   "metadata": {},
   "outputs": [
    {
     "data": {
      "text/plain": [
       "Software Engineer             246\n",
       "Data Scientist                168\n",
       "Product Manager                99\n",
       "Investment Banking             85\n",
       "Quantitative                   69\n",
       "Product Designer               27\n",
       "Consultant                     23\n",
       "Quantitative UX Researcher     14\n",
       "Business Analyst               11\n",
       "Name: jobTitle, dtype: int64"
      ]
     },
     "execution_count": 987,
     "metadata": {},
     "output_type": "execute_result"
    }
   ],
   "source": [
    "edith = edith[~(edith[\"jobTitle\"] == \"Vice President\")]\n",
    "edith = edith[~(edith[\"jobTitle\"] == \"Portfolio Manager\")]\n",
    "edith[\"jobTitle\"].value_counts()"
   ]
  },
  {
   "cell_type": "markdown",
   "metadata": {},
   "source": [
    "## Gets rid of unknown locations"
   ]
  },
  {
   "cell_type": "code",
   "execution_count": 988,
   "metadata": {},
   "outputs": [],
   "source": [
    "edith = edith[~(edith[\"state\"] == \"Unknown\")]"
   ]
  },
  {
   "cell_type": "markdown",
   "metadata": {},
   "source": [
    "## Gets rid of salaries lower than 40000 or greater than 300000"
   ]
  },
  {
   "cell_type": "code",
   "execution_count": 989,
   "metadata": {},
   "outputs": [
    {
     "data": {
      "text/plain": [
       "719"
      ]
     },
     "execution_count": 989,
     "metadata": {},
     "output_type": "execute_result"
    }
   ],
   "source": [
    "len(edith)"
   ]
  },
  {
   "cell_type": "code",
   "execution_count": 990,
   "metadata": {},
   "outputs": [],
   "source": [
    "edith = edith[~(edith[\"salary_y\"] < 40000)]\n",
    "edith = edith[~(edith[\"salary_y\"] > 300000)]"
   ]
  },
  {
   "cell_type": "code",
   "execution_count": 991,
   "metadata": {},
   "outputs": [
    {
     "data": {
      "text/plain": [
       "645"
      ]
     },
     "execution_count": 991,
     "metadata": {},
     "output_type": "execute_result"
    }
   ],
   "source": [
    "len(edith)"
   ]
  },
  {
   "cell_type": "markdown",
   "metadata": {},
   "source": [
    "## Label Encoding maxDegree"
   ]
  },
  {
   "cell_type": "code",
   "execution_count": 992,
   "metadata": {},
   "outputs": [],
   "source": [
    "edith = edith.replace(\"Bachelor\", 0).replace(\"Master\", 1).replace(\"Doctor\", 2)\n",
    "edith = edith[~edith[\"maxDegree\"].isnull()]"
   ]
  },
  {
   "cell_type": "markdown",
   "metadata": {},
   "source": [
    "## Cleaning Up Job Titles"
   ]
  },
  {
   "cell_type": "code",
   "execution_count": 993,
   "metadata": {},
   "outputs": [],
   "source": [
    "#computer science related titles\n",
    "edith = edith.replace([\"Computer Engineering\", \"Computer Science and Engineering\", \"Software Engineering\"], \"Computer Science\")"
   ]
  },
  {
   "cell_type": "code",
   "execution_count": 1439,
   "metadata": {},
   "outputs": [],
   "source": [
    "replace_dict = {\"Finance, General\":\"Finance\", \n",
    "                \"Computational Finance\":\"Financial Engineering\", \n",
    "                \"Applied Statistics\":\"Statistics\",\n",
    "               \"Information Technology\":\"Computer Science\",\n",
    "               \"Electrical and Electronics Engineering\":\"Electrical Engineering\",\n",
    "               \"Financial Mathematics\" : \"Financial Engineering\",\n",
    "               \"Electrical Engineering and Computer Sciences\": \"Electrical Engineering and Computer Science\",\n",
    "               \"Mathematics and Computer Science\":\"Applied Mathematics\",\n",
    "               \"Operations Research and Financial Engineering\" : \"Financial Engineering\",\n",
    "               \"Major: Business Analytics & Information Technology  Minor: Women's & Gender Studies\" : \"Business Administration\",\n",
    "               \"Finance and Accounting\" : \"Finance\",\n",
    "               \"Analytics\" : \"Business Administration\",\n",
    "               \"Business\":\"Business Administration\",\n",
    "               \"Industrial Engineering and Operations Research\" : \"Industrial Engineering\",\n",
    "               \"Bioinformatics and Genomics\" : \"Bioinformatics\"}"
   ]
  },
  {
   "cell_type": "code",
   "execution_count": 1462,
   "metadata": {},
   "outputs": [],
   "source": [
    "edith = edith.replace([\"Computer Engineering\", \"Computer Science and Engineering\", \"Software Engineering\", \"Computer Science & Engineering\", \"computer science\", \"Computer and Information Sciences, General\", \"Information Science\", \"Computer Science and Business Administration\", \"Information Systems Management\", \"Computer Software Engineering\"], \n",
    "                      \"Computer Science\")\n",
    "edith = edith.replace(replace_dict)"
   ]
  },
  {
   "cell_type": "markdown",
   "metadata": {},
   "source": [
    "## Lumps together companies that don't appear as often"
   ]
  },
  {
   "cell_type": "code",
   "execution_count": 1463,
   "metadata": {},
   "outputs": [],
   "source": [
    "for company in edith[\"company\"].value_counts().index:\n",
    "    if (edith[\"company\"].value_counts()[company] < 4):\n",
    "        edith = edith.replace(company, \"Other\")"
   ]
  },
  {
   "cell_type": "markdown",
   "metadata": {},
   "source": [
    "## Lumps together schools that don't appear as often"
   ]
  },
  {
   "cell_type": "code",
   "execution_count": 1568,
   "metadata": {},
   "outputs": [],
   "source": [
    "edith['salary_y'][219] = 175678\n",
    "edith['salary_y'][251] = 173467\n",
    "edith['salary_y'][268] = 172565"
   ]
  },
  {
   "cell_type": "code",
   "execution_count": 1569,
   "metadata": {},
   "outputs": [],
   "source": [
    "for school in edith[\"school\"].value_counts().index:\n",
    "    if (edith[\"school\"].value_counts()[school] < 5):\n",
    "        edith = edith.replace(school, \"Other\")"
   ]
  },
  {
   "cell_type": "code",
   "execution_count": 1570,
   "metadata": {},
   "outputs": [],
   "source": [
    "first_edith = first_edith[~(first_edith['salary_y'] == -1)]\n"
   ]
  },
  {
   "cell_type": "code",
   "execution_count": 1633,
   "metadata": {},
   "outputs": [],
   "source": [
    "first_edith = edith[list(edith.columns)[1:]]"
   ]
  },
  {
   "cell_type": "markdown",
   "metadata": {},
   "source": [
    "# MODEL"
   ]
  },
  {
   "cell_type": "code",
   "execution_count": 1559,
   "metadata": {},
   "outputs": [
    {
     "data": {
      "text/plain": [
       "23236.805777949525"
      ]
     },
     "execution_count": 1559,
     "metadata": {},
     "output_type": "execute_result"
    }
   ],
   "source": [
    "from sklearn.metrics import mean_squared_error\n",
    "(mean_squared_error(edith1_train['salary_y'], edith1_train['Predicted Salary Range']))**0.5"
   ]
  },
  {
   "cell_type": "code",
   "execution_count": 1560,
   "metadata": {},
   "outputs": [
    {
     "data": {
      "text/plain": [
       "0.9104859335038363"
      ]
     },
     "execution_count": 1560,
     "metadata": {},
     "output_type": "execute_result"
    }
   ],
   "source": [
    "lr_training_accuracy = logistic_regression_model.score(X1_train, Y1_train)\n",
    "lr_training_accuracy"
   ]
  },
  {
   "cell_type": "code",
   "execution_count": 1631,
   "metadata": {},
   "outputs": [],
   "source": [
    "def entry_level_salary_predictor(inputs, first_edith):\n",
    "    #add to first_edith\n",
    "    inputs = [0] + list(inputs)\n",
    "    series = pd.Series(inputs, index = first_edith.columns)\n",
    "    first_edith = first_edith.append(series, ignore_index=True)\n",
    "    \n",
    "    #create dummies\n",
    "    edith1_dum = pd.get_dummies(first_edith, columns=[\"company\",\"jobTitle\", \"school\", \"state\", \n",
    "                                           \"study0\", \"study1\", \"gender\"], drop_first = True)\n",
    "    #get inputs\n",
    "    inputs = edith1_dum.iloc[-1][1:]\n",
    "    edith1_dum = edith1_dum[:len(edith1_dum)-1]\n",
    "    \n",
    "    #train test split our data\n",
    "    edith1_train, edith1_test = train_test_split(edith1_dum, test_size=0.4, random_state=43)\n",
    "    X1_train, X1_test = edith1_train[edith1_train.columns.tolist()[1:]], edith1_test[edith1_test.columns.tolist()[1:]]\n",
    "    Y1_train = edith1_train[\"salary_y\"]\n",
    "   \n",
    "    #fit our data\n",
    "    logistic_regression_model = LogisticRegression(multi_class = \"ovr\")\n",
    "    logistic_regression_model.fit(X1_train, Y1_train)\n",
    "    \n",
    "    #predict the input\n",
    "    inputs = np.array(inputs).reshape(1,-1)\n",
    "    return logistic_regression_model.predict(inputs)[0]"
   ]
  },
  {
   "cell_type": "code",
   "execution_count": 1632,
   "metadata": {
    "scrolled": true
   },
   "outputs": [
    {
     "data": {
      "text/plain": [
       "111121"
      ]
     },
     "execution_count": 1632,
     "metadata": {},
     "output_type": "execute_result"
    }
   ],
   "source": [
    "entry_level_salary_predictor(stuff, first_edith)"
   ]
  },
  {
   "cell_type": "code",
   "execution_count": 1561,
   "metadata": {
    "scrolled": false
   },
   "outputs": [
    {
     "data": {
      "text/plain": [
       "Index(['maxDegree', 'yearsSinceGrad', 'company_Airbnb', 'company_Amazon',\n",
       "       'company_Apple', 'company_Bain & Company', 'company_Bank of America',\n",
       "       'company_Bank of America Merrill Lynch',\n",
       "       'company_Barclays Investment Bank', 'company_Blend',\n",
       "       ...\n",
       "       'study1_Systems Biology', 'study1_Systems Engineering',\n",
       "       'study1_Systems Enigeering', 'study1_Technology',\n",
       "       'study1_Telecommunication', 'study1_Typography',\n",
       "       'study1_Urban Spatial Analytics', 'study1_Visual Communication',\n",
       "       'study1_Visual Communications', 'gender_male'],\n",
       "      dtype='object', length=277)"
      ]
     },
     "execution_count": 1561,
     "metadata": {},
     "output_type": "execute_result"
    }
   ],
   "source": [
    "X1_train.columns"
   ]
  },
  {
   "cell_type": "code",
   "execution_count": null,
   "metadata": {},
   "outputs": [],
   "source": []
  }
 ],
 "metadata": {
  "kernelspec": {
   "display_name": "Python 3",
   "language": "python",
   "name": "python3"
  },
  "language_info": {
   "codemirror_mode": {
    "name": "ipython",
    "version": 3
   },
   "file_extension": ".py",
   "mimetype": "text/x-python",
   "name": "python",
   "nbconvert_exporter": "python",
   "pygments_lexer": "ipython3",
   "version": "3.7.4"
  }
 },
 "nbformat": 4,
 "nbformat_minor": 4
}
